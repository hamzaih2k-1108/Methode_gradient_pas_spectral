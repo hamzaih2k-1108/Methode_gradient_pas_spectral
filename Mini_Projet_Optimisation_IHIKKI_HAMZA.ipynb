{
  "cells": [
    {
      "cell_type": "markdown",
      "metadata": {
        "id": "kKiJgpXvf7A_"
      },
      "source": [
        "# Mini projet :  Méthode de gradient à pas spectral\n",
        "\n",
        "\n",
        "Le but de ce mini-projet est de programmer, valider et expérimenter la méthode de gradient avec pas spectral.\n",
        "\n",
        "\n"
      ]
    },
    {
      "cell_type": "markdown",
      "metadata": {
        "id": "AzTJNdqefEB5"
      },
      "source": [
        "\n",
        "On introduit les deux notations :\n",
        "\n",
        "$$ \\left\\{\n",
        "\\begin{array}{ccc}\n",
        "s^{(k-1)} & = & u^{(k)} - u^{(k-1)} \\\\\n",
        "y^{(k-1)} & = & \\nabla J(u^{(k)}) - \\nabla J(u^{(k-1)}) \\\\\n",
        " \\end{array}\n",
        "\\right.\n",
        "$$"
      ]
    },
    {
      "cell_type": "code",
      "execution_count": 45,
      "metadata": {
        "id": "2T185F5Qq607"
      },
      "outputs": [],
      "source": [
        "#importer les packages nécessaires pour ce TP\n",
        "import numpy as np\n",
        "import matplotlib.pyplot as plt\n",
        "from scipy.linalg import toeplitz"
      ]
    },
    {
      "cell_type": "markdown",
      "metadata": {
        "id": "fny0L_yPTXXC"
      },
      "source": [
        "## Etape 1.\n",
        "\n",
        "Reprendre un algorithme de minimisation par gradient à pas variable (ou à pas constant) :\n",
        "\n",
        "$$\n",
        "u^{(0)} \\text { donné;} \\quad  u^{(k+1)}=u^{(k)}-\\rho_{k} \\nabla J\\left(u^{(k)}\\right)\n",
        "$$\n",
        "\n",
        "> Modifier cet algorithme de sorte à ce que le pas $\\rho_{k}$ soit donné par l'une des deux variantes, dites de **Barzilaï et Borwein** :\n",
        "\n",
        "$$\n",
        "\\rho_{k}^{1}=\\frac{\\left(s^{(k-1)}, s^{(k-1)}\\right)}{\\left(y^{(k-1)}, s^{(k-1)}\\right)} ; \\quad \\rho_{k}^{2}=\\frac{\\left(s^{(k-1)}, y^{(k-1)}\\right)}{\\left(y^{(k-1)}, y^{(k-1)}\\right)}\n",
        "$$\n",
        "\n",
        "Cet algorithme (noté BB1 et BB2 selon variante) nécessite donc un pré-calcul de $u^{(1)}$ avec un pas initial $\\rho_{0}$ décidé par l'utilisateur."
      ]
    },
    {
      "cell_type": "code",
      "execution_count": 46,
      "metadata": {
        "id": "ZTXo_G6jUVTE"
      },
      "outputs": [],
      "source": [
        "#Méthode de gradient à pas fixe:\n",
        "def GF(fun, u, eta, EpsG, MaxIters):\n",
        "    cost_history = np.zeros(MaxIters) \n",
        "     \n",
        "    for k in range(MaxIters):\n",
        "        [J,G] = fun(u)\n",
        "        cost_history[k] = J \n",
        "\n",
        "        if np.linalg.norm(G) < EpsG:\n",
        "          break\n",
        "\n",
        "        u = u - eta * G \n",
        "         \n",
        "    return u, k, cost_history\n",
        "\n",
        "#Méthode de gradient à pas optimale:\n",
        "def GO(fun, u, eta, EpsX, EpsG, MaxIters):\n",
        "\n",
        "    cost_history = np.zeros(MaxIters)\n",
        "    \n",
        "    for k in range(MaxIters):\n",
        "        [J, G] = fun(u)\n",
        "        cost_history[k] = J \n",
        "        if np.linalg.norm(G) < EpsG or eta < EpsX:\n",
        "          break\n",
        " \n",
        "        etas = eta\n",
        "        us = u - etas * G \n",
        "        [Js, Gs] = fun(us) \n",
        "        Jk = J\n",
        "        Gk = -np.dot(G,G)   \n",
        "        eta = -(Gk*etas*etas)/(2*(Js-Jk-Gk*etas))\n",
        "        u = u - eta * G \n",
        "         \n",
        "    return u, k, cost_history"
      ]
    },
    {
      "cell_type": "code",
      "execution_count": 47,
      "metadata": {
        "id": "iGKCT4LgxXQL"
      },
      "outputs": [],
      "source": [
        "def BB1(fun,u,eta,epsg,maxiter):#eta== pas initial de cet algorithme\n",
        "  cost_history=np.zeros(maxiter)\n",
        "  gradient=list()\n",
        "  U=[u]\n",
        "  for i in range(maxiter):\n",
        "    J,G=fun(u)\n",
        "    cost_history[i]=J\n",
        "    gradient.append(G)\n",
        "    if np.linalg.norm(G)<epsg:#condition d'arret\n",
        "      break\n",
        "    if i==0:\n",
        "      u=u-eta*G  #précalcul de u1 avec le pas initial\n",
        "    else:\n",
        "      s=U[i]-U[i-1]\n",
        "      y=gradient[i]-gradient[i-1]\n",
        "      eta=np.dot(s,s)/np.dot(y,s)\n",
        "      u=u-eta*G\n",
        "    U.append(u)\n",
        "\n",
        "  return u,i,cost_history,gradient[i]\n",
        "\n",
        "def BB2(fun,u,eta,epsg,maxiter):\n",
        "  cost_history=np.zeros(maxiter)\n",
        "  gradient=list()\n",
        "  U=[u]\n",
        "  for i in range(maxiter):\n",
        "    J,G=fun(u)\n",
        "    cost_history[i]=J\n",
        "    gradient.append(G)\n",
        "    if np.linalg.norm(G)<epsg:#condition d'arret\n",
        "      break\n",
        "    if i==0:\n",
        "      u=u-eta*G  #précalcul de u1 avec le pas initial\n",
        "    else:\n",
        "      s=U[i]-U[i-1]\n",
        "      y=gradient[i]-gradient[i-1]\n",
        "      eta=np.dot(s,y)/np.dot(y,y)\n",
        "      u=u-eta*G\n",
        "    U.append(u)\n",
        "\n",
        "  return u,i,cost_history,gradient[i]"
      ]
    },
    {
      "cell_type": "markdown",
      "metadata": {
        "id": "72jY7cT4TvvP"
      },
      "source": [
        "## Etape 2.\n",
        "\n",
        "> Effectuer les tests de validation pour les fonctions quadratiques suivantes $(N=10)$ :\n",
        "\n",
        "$$\n",
        "J_{1}(v)=\\sum_{i=1}^{i=N}\\left(v_{i}-1\\right)^{2}, \\quad J_{2}(v)=\\sum_{i=1}^{i=N}\\left(v_{i}-i\\right)^{2}\n",
        "$$"
      ]
    },
    {
      "cell_type": "code",
      "execution_count": 48,
      "metadata": {
        "colab": {
          "base_uri": "https://localhost:8080/"
        },
        "id": "LjsewFFtUe7y",
        "outputId": "08d96910-8508-4b07-fd27-29194bea1721"
      },
      "outputs": [
        {
          "name": "stdout",
          "output_type": "stream",
          "text": [
            "le nbre d iteration  du BB1 est : 1\n",
            "le minimum est [1. 1.] et son dérivé est [0. 0.]\n",
            "le nbre d iteration du BB2 est : 1\n",
            "le minimum est [1. 1.] et son dérivé est [0. 0.]\n"
          ]
        }
      ],
      "source": [
        "def J1(v):\n",
        "    N = len(v)\n",
        "    e = np.ones(N)\n",
        "    return [np.dot(v-e,v-e), 2*(v-e)]\n",
        "\n",
        "def J2(v):\n",
        "    N = len(v)\n",
        "    i = np.arange(1, N+1)\n",
        "    return [np.dot(v-i,v-i), 2*(v-i)]\n",
        "\n",
        "N=2\n",
        "u=np.zeros(N)\n",
        "eta=0.5\n",
        "epsg=1.e-08\n",
        "maxiter=1500\n",
        "\n",
        "#test de validation d'algorithm BB1\n",
        "uBB1,nbreiter,cost_BB1,grad=BB1(J1,u,eta,epsg,maxiter)\n",
        "print(\"le nbre d iteration  du BB1 est : {}\".format(nbreiter))\n",
        "print(\"le minimum est {} et son dérivé est {}\".format(uBB1,grad))\n",
        "\n",
        "#test de validation d'algorithm BB2\n",
        "uBB2,nbreiter,cost_BB2,grad=BB2(J1,u,eta,epsg,maxiter)\n",
        "print(\"le nbre d iteration du BB2 est : {}\".format(nbreiter))\n",
        "print(\"le minimum est {} et son dérivé est {}\".format(uBB2,grad))"
      ]
    },
    {
      "cell_type": "markdown",
      "metadata": {
        "id": "oweZPm5bUfkP"
      },
      "source": [
        "## Etape 3.\n",
        "\n",
        "On considère les fonctions suivantes (en dimension $N$ ) :\n",
        "\n",
        "$$\n",
        "J_{5}(v)=\\frac{1}{2}(A v, v)-(f, v)+\\sum_{i=1}^{i=N}\\left(v_{i}\\right)^{2}, \\quad J_{6}(v)=\\frac{1}{2}(A v, v)-(f, v)+\\sum_{i=1}^{i=N}\\left(v_{i}\\right)^{4}\n",
        "$$\n",
        "\n",
        "avec $f=(1, \\ldots, 1)$ et la matrice $A=\\operatorname{tridiag}[-1,2,-1]$ et la fonction de Rosenbrock\n",
        "\n",
        "$$\n",
        "J_{R}(v)=\\sum_{i=1}^{N-1}\\left(v_{i+1}-v_{i}^{2}\\right)^{2}+\\sum_{i=1}^{N-1}\\left(v_{i}-1\\right)^{2}\n",
        "$$\n",
        "\n",
        "> Minimiser les fonctions $J_{5},$ $J_{6}$ et $J_{R}$ par BB1 et par BB2 $(N=10,20,40,80)$, et comparer les performances de ces deux variantes. On tracera sur un même graphique les courbes BB1 et BB2 de $J\\left(u^{(k)}\\right)$ en fonction des itérations $k$."
      ]
    },
    {
      "cell_type": "code",
      "execution_count": 49,
      "metadata": {
        "id": "zBAbCQ5jQBsD"
      },
      "outputs": [],
      "source": [
        "#construction de la matrice tridiagonale:\n",
        "def tridiag(T,x,y,z,k1=-1, k2=0, k3=1):\n",
        "    a = [x]*(T-abs(k1)); b = [y]*(T-abs(k2)); c = [z]*(T-abs(k3))\n",
        "    return np.diag(a, k1) + np.diag(b, k2) + np.diag(c, k3)\n"
      ]
    },
    {
      "cell_type": "markdown",
      "metadata": {
        "id": "swDznZgBsK5X"
      },
      "source": [
        "$$\n",
        "J_{5}(v)=\\frac{1}{2}(A v, v)-(f, v)+\\sum_{i=1}^{i=N}\\left(v_{i}\\right)^{2}, \\\n",
        "$$"
      ]
    },
    {
      "cell_type": "code",
      "execution_count": 50,
      "metadata": {
        "id": "aZUMQpwkxibl"
      },
      "outputs": [],
      "source": [
        "def J5(v):\n",
        "  N=len(v)\n",
        "  A=tridiag(N,-1,2,-1)\n",
        "  f=np.ones(N)\n",
        "  return [1/2*(np.dot(A@v,v))-np.dot(f,v)+np.dot(v,v),(A@v)-f+2*v]"
      ]
    },
    {
      "cell_type": "code",
      "execution_count": null,
      "metadata": {
        "id": "XHv3wflQH0wa"
      },
      "outputs": [],
      "source": [
        "N1=10\n",
        "N2=20\n",
        "N3=40\n",
        "N4=80\n",
        "u1=np.zeros(N1)\n",
        "u2=np.zeros(N2)\n",
        "u3=np.zeros(N3)\n",
        "u4=np.zeros(N4)\n",
        "\n",
        "eta=0.5\n",
        "epsg=1.e-08\n",
        "maxiter=1500\n",
        "#Validation de l'algorithme BB1 :\n",
        "uBB1,nbreiter1,cost_BB1,grad1=BB1(J5,u1,eta,epsg,maxiter)\n",
        "uBB2,nbreiter2,cost_BB2,grad2=BB1(J5,u2,eta,epsg,maxiter)\n",
        "uBB3,nbreiter3,cost_BB3,grad3=BB1(J5,u3,eta,epsg,maxiter)\n",
        "uBB4,nbreiter4,cost_BB4,grad4=BB1(J5,u4,eta,epsg,maxiter)\n",
        "print(\"le nbre d iteration  du BB1  pour N= {} est : {}\".format(N1,nbreiter1))\n",
        "print(\"la dérivée du minimum est {}\".format(grad1))\n",
        "print(\"\")\n",
        "print(\"le nbre d iteration  du BB1  pour N= {} est : {}\".format(N2,nbreiter2))\n",
        "print(\"la dérivé du minimum est {}\".format(grad2))\n",
        "print(\"\")\n",
        "print(\"le nbre d iteration  du BB1  pour N= {} est : {}\".format(N3,nbreiter3))\n",
        "print(\"la dérivée du minimum est {}\".format(grad3))\n",
        "print(\"\")\n",
        "print(\"le nbre d iteration  du BB1  pour N= {} est : {}\".format(N4,nbreiter4))\n",
        "print(\"la dérivée du minimum  est {}\".format(grad4))\n",
        "print(\"\");print(\"\")\n",
        "#validation de l'algorithme BB2:\n",
        "uBB11,nbreiter11,cost_BB11,grad11=BB2(J5,u1,eta,epsg,maxiter)\n",
        "uBB22,nbreiter22,cost_BB22,grad22=BB2(J5,u2,eta,epsg,maxiter)\n",
        "uBB33,nbreiter33,cost_BB33,grad33=BB2(J5,u3,eta,epsg,maxiter)\n",
        "uBB44,nbreiter44,cost_BB44,grad44=BB2(J5,u4,eta,epsg,maxiter)\n",
        "print(\"le nbre d iteration  du BB2  pour N= {} est : {}\".format(N1,nbreiter11))\n",
        "print(\"la dérivée du minimum est {}\".format(grad11))\n",
        "print(\"\")\n",
        "print(\"le nbre d iteration  du BB2  pour N= {} est : {}\".format(N2,nbreiter22))\n",
        "print(\"la dérivée du munimum est {}\".format(grad22))\n",
        "print(\"\")\n",
        "print(\"le nbre d iteration  du BB2  pour N= {} est : {}\".format(N3,nbreiter33))\n",
        "print(\"la dérivée du minimum est {}\".format(grad33))\n",
        "print(\"\")\n",
        "print(\"le nbre d iteration  du BB2  pour N= {} est : {}\".format(N4,nbreiter44))\n",
        "print(\"la dérivée du minimum est {}\".format(grad44))"
      ]
    },
    {
      "cell_type": "code",
      "execution_count": 52,
      "metadata": {
        "colab": {
          "base_uri": "https://localhost:8080/",
          "height": 295
        },
        "id": "nCpTvE0xuXVu",
        "outputId": "cb495239-ed9c-4f25-ccd4-52412b216772"
      },
      "outputs": [
        {
          "data": {
            "image/png": "[encoded data removed]",
            "text/plain": [
              "<Figure size 432x288 with 1 Axes>"
            ]
          },
          "metadata": {
            "needs_background": "light"
          },
          "output_type": "display_data"
        }
      ],
      "source": [
        "plt.plot(range(0,nbreiter2+1), cost_BB2[0:nbreiter2+1], 'b-', label=\"BB1\")\n",
        "plt.plot(range(0,nbreiter22+1), cost_BB22[0:nbreiter22+1], 'r*', label=\"BB2\")\n",
        "plt.xlabel('iterations')\n",
        "plt.ylabel('J5(Uk)')\n",
        "plt.title('Pour N=20')\n",
        "plt.legend()\n",
        "plt.show()"
      ]
    },
    {
      "cell_type": "markdown",
      "metadata": {
        "id": "YOWxan4bwBh3"
      },
      "source": [
        "*->Selon le graphe, on remarque que les deux algorithmes BB1 et BB2 minimisent la fonction J5 en 16 itérations.*"
      ]
    },
    {
      "cell_type": "markdown",
      "metadata": {
        "id": "8C5JNl6EtfIx"
      },
      "source": [
        "$$J_{6}(v)=\\frac{1}{2}(A v, v)-(f, v)+\\sum_{i=1}^{i=N}\\left(v_{i}\\right)^{4}\n",
        "$$"
      ]
    },
    {
      "cell_type": "code",
      "execution_count": 53,
      "metadata": {
        "id": "5fKg1lBptwtT"
      },
      "outputs": [],
      "source": [
        "def J6(v):\n",
        "  N=len(v)\n",
        "  A=tridiag(N,-1,2,-1)\n",
        "  f=np.ones(N)\n",
        "  s=0\n",
        "  for i in range(N):\n",
        "    s+=(v[i]**4)\n",
        "  return [1/2*(np.dot(A@v,v))-np.dot(f,v)+s,(A@v)-f+4*np.dot(v,v)*v]\n"
      ]
    },
    {
      "cell_type": "code",
      "execution_count": null,
      "metadata": {
        "id": "O7MlP6Gy_onD"
      },
      "outputs": [],
      "source": [
        "N1=10\n",
        "N2=20\n",
        "N3=40\n",
        "N4=80\n",
        "u1=np.zeros(N1)\n",
        "u2=np.zeros(N2)\n",
        "u3=np.zeros(N3)\n",
        "u4=np.zeros(N4)\n",
        "\n",
        "eta=0.5\n",
        "epsg=1.e-08\n",
        "maxiter=1500\n",
        "\n",
        "#Validation de l'algorithme BB1 :\n",
        "uBB1,nbreiter1,cost_BB1,grad1=BB1(J6,u1,eta,epsg,maxiter)\n",
        "uBB2,nbreiter2,cost_BB2,grad2=BB1(J6,u2,eta,epsg,maxiter)\n",
        "uBB3,nbreiter3,cost_BB3,grad3=BB1(J6,u3,eta,epsg,maxiter)\n",
        "uBB4,nbreiter4,cost_BB4,grad4=BB1(J6,u4,eta,epsg,maxiter)\n",
        "print(\"le nbre d iteration  du BB1  pour N= {} est : {}\".format(N1,nbreiter1))\n",
        "print(\"la dérivée du minimum est {}\".format(grad1))\n",
        "print(\"\")\n",
        "print(\"le nbre d iteration  du BB1  pour N= {} est : {}\".format(N2,nbreiter2))\n",
        "print(\"la dérivé du minimum est {}\".format(grad2))\n",
        "print(\"\")\n",
        "print(\"le nbre d iteration  du BB1  pour N= {} est : {}\".format(N3,nbreiter3))\n",
        "print(\"la dérivée du minimum est {}\".format(grad3))\n",
        "print(\"\")\n",
        "print(\"le nbre d iteration  du BB1  pour N= {} est : {}\".format(N4,nbreiter4))\n",
        "print(\"la dérivée du minimum  est {}\".format(grad4))\n",
        "print(\"\");print(\"\")\n",
        "\n",
        "#validation de l'algorithme BB2:\n",
        "uBB11,nbreiter11,cost_BB11,grad11=BB2(J6,u1,eta,epsg,maxiter)\n",
        "uBB22,nbreiter22,cost_BB22,grad22=BB2(J6,u2,eta,epsg,maxiter)\n",
        "uBB33,nbreiter33,cost_BB33,grad33=BB2(J6,u3,eta,epsg,maxiter)\n",
        "uBB44,nbreiter44,cost_BB44,grad44=BB2(J6,u4,eta,epsg,maxiter)\n",
        "print(\"le nbre d iteration  du BB2  pour N= {} est : {}\".format(N1,nbreiter11))\n",
        "print(\"la dérivée du minimum est {}\".format(grad11))\n",
        "print(\"\")\n",
        "print(\"le nbre d iteration  du BB2  pour N= {} est : {}\".format(N2,nbreiter22))\n",
        "print(\"la dérivée du munimum est {}\".format(grad22))\n",
        "print(\"\")\n",
        "print(\"le nbre d iteration  du BB2  pour N= {} est : {}\".format(N3,nbreiter33))\n",
        "print(\"la dérivée du minimum est {}\".format(grad33))\n",
        "print(\"\")\n",
        "print(\"le nbre d iteration  du BB2  pour N= {} est : {}\".format(N4,nbreiter44))\n",
        "print(\"la dérivée du minimum est {}\".format(grad44))"
      ]
    },
    {
      "cell_type": "code",
      "execution_count": 55,
      "metadata": {
        "colab": {
          "base_uri": "https://localhost:8080/",
          "height": 295
        },
        "id": "sVbu0lKwAMtw",
        "outputId": "b8e5b0db-0dbf-46b2-a4ff-4c24f770b923"
      },
      "outputs": [
        {
          "data": {
            "image/png": "[encoded data removed]",
            "text/plain": [
              "<Figure size 432x288 with 1 Axes>"
            ]
          },
          "metadata": {
            "needs_background": "light"
          },
          "output_type": "display_data"
        }
      ],
      "source": [
        "plt.plot(range(0,nbreiter1+1), cost_BB1[0:nbreiter1+1], 'b*', label=\"BB1\")\n",
        "plt.plot(range(0,nbreiter11+1), cost_BB11[0:nbreiter11+1], 'r', label=\"BB2\")\n",
        "plt.xlabel('iterations')\n",
        "plt.ylabel('J6(Uk)')\n",
        "plt.title('Pour N=10')\n",
        "plt.legend()\n",
        "plt.show()"
      ]
    },
    {
      "cell_type": "markdown",
      "metadata": {
        "id": "bbcBLwb-BOHK"
      },
      "source": [
        "$$\n",
        "J_{R}(v)=\\sum_{i=1}^{N-1}\\left(v_{i+1}-v_{i}^{2}\\right)^{2}+\\sum_{i=1}^{N-1}\\left(v_{i}-1\\right)^{2}\n",
        "$$"
      ]
    },
    {
      "cell_type": "code",
      "execution_count": 56,
      "metadata": {
        "id": "v0yHIRHDBM31"
      },
      "outputs": [],
      "source": [
        "def JR(v):\n",
        "    N = len(v)\n",
        "    w1, w2, e = v[:-1], v[1:], np.ones(N-1)    \n",
        "    dw1 = w2 - w1*w1\n",
        "    dw2 = w1 - e\n",
        "    diff1 = np.zeros(N)\n",
        "    diff1[1: ]  = 2*dw1\n",
        "    diff1[:-1] -= 4*w1*dw1\n",
        "    diff2 = np.zeros(N)  \n",
        "    diff2[:-1] = 2*dw2 \n",
        "    return np.dot(dw1,dw1)+np.dot(dw2,dw2), diff1+diff2"
      ]
    },
    {
      "cell_type": "code",
      "execution_count": 57,
      "metadata": {
        "colab": {
          "base_uri": "https://localhost:8080/"
        },
        "id": "7qmSxxlOBvsu",
        "outputId": "1a4f6bef-c8d6-4c30-8a11-82848923b652"
      },
      "outputs": [
        {
          "name": "stdout",
          "output_type": "stream",
          "text": [
            "le nbre d iteration  du BB1  pour N= 10 est : 91\n",
            "la dérivée du minimum est [-1.25766730e-10 -1.78290716e-10 -1.59442681e-10 -1.17921228e-10\n",
            " -1.40935708e-10 -1.78697057e-10 -1.73680625e-10 -1.70998327e-10\n",
            " -2.30768294e-10 -4.53002968e-10]\n",
            "\n",
            "le nbre d iteration  du BB1  pour N= 20 est : 74\n",
            "la dérivé du minimum est [-3.96548128e-10 -1.41152379e-09 -1.05259712e-09 -1.33539935e-09\n",
            " -1.44917323e-09 -2.38812925e-09 -1.40125333e-09 -2.69598788e-09\n",
            " -1.94551131e-09 -2.34809505e-09 -1.44576306e-09 -2.70052025e-09\n",
            " -1.45988377e-09 -1.86465288e-09 -9.92967930e-10 -1.33643274e-09\n",
            " -6.52143229e-10 -1.41667567e-09 -1.86549890e-09 -3.76515441e-09]\n",
            "\n",
            "le nbre d iteration  du BB1  pour N= 40 est : 69\n",
            "la dérivée du minimum est [-8.44779802e-11 -1.15760734e-10 -7.24642568e-11 -8.41531289e-11\n",
            "  2.54383181e-11  2.47188936e-11  1.70462755e-10  1.47513113e-10\n",
            "  2.94453351e-10  1.64433800e-10  2.06436646e-10 -3.31645822e-12\n",
            " -2.34434694e-12 -2.27357244e-10 -1.36051614e-10 -2.88313817e-10\n",
            " -1.39146916e-10 -1.58238311e-10  2.09410267e-11 -7.83453302e-11\n",
            "  2.80544477e-11 -1.76210602e-10 -2.18722818e-10 -3.71159548e-10\n",
            " -4.01421563e-10 -5.70062220e-10 -4.96879426e-10 -5.24863264e-10\n",
            " -4.05695921e-10 -2.80238943e-10 -1.69665171e-10 -1.84889437e-10\n",
            " -1.23775656e-10 -1.60581770e-10 -1.68062453e-10 -1.40127021e-10\n",
            " -1.48492330e-10 -1.56501034e-10 -1.07220455e-10 -1.75894410e-10]\n",
            "\n",
            "le nbre d iteration  du BB1  pour N= 80 est : 96\n",
            "la dérivée du minimum  est [-1.28452804e-12  2.99626990e-12 -4.12558876e-12  4.32676117e-12\n",
            " -3.67395003e-12  2.69961831e-12 -1.63868918e-12  7.49178497e-13\n",
            " -1.43218770e-12  4.29345448e-12 -7.92477195e-12  1.26028077e-11\n",
            " -1.90159000e-11  2.46331844e-11 -2.89328561e-11  3.08499892e-11\n",
            " -2.63820077e-11  2.42525999e-11 -2.76734191e-11  1.24553701e-11\n",
            "  7.82307552e-12  1.46544998e-11 -2.96318525e-11 -1.60036429e-11\n",
            "  2.42472709e-12  8.17279577e-11 -5.10560483e-11 -3.91020549e-12\n",
            " -8.13171752e-11  1.15278898e-10 -3.72146758e-11  1.83288940e-11\n",
            " -4.74291717e-11  6.64139854e-11 -2.83084667e-11 -5.89257532e-11\n",
            " -1.62758695e-12  1.24568800e-10 -2.06830109e-11 -5.63491476e-11\n",
            " -1.22799992e-10  1.89454230e-10 -4.85149698e-11 -4.91695573e-12\n",
            " -1.39088741e-10  1.79428028e-10  4.26325641e-11 -7.87938603e-11\n",
            " -1.40132350e-10  4.98596719e-11  1.11065823e-10  4.57780480e-11\n",
            " -1.23441701e-10  4.79780660e-11 -8.82751650e-11  9.56399404e-11\n",
            " -1.34037226e-10  1.44096735e-10 -3.11750625e-13  4.88857843e-11\n",
            " -1.23813404e-10 -9.48960910e-11  8.00310929e-11  1.17413634e-10\n",
            "  1.81237247e-11 -1.07371889e-10 -8.86544171e-11  1.97158290e-10\n",
            " -5.61510838e-11 -5.09374765e-11 -1.73316916e-10  2.58097987e-10\n",
            "  1.16854082e-10 -1.74299242e-10 -2.39833931e-10 -1.11325616e-10\n",
            " -2.73900914e-11 -8.23051412e-10 -1.98074450e-09 -4.69652961e-09]\n",
            "\n",
            "\n",
            "le nbre d iteration  du BB2  pour N= 10 est : 72\n",
            "la dérivée du minimum est [ 1.93228855e-09 -7.40749684e-10 -3.30751604e-09  1.20888899e-09\n",
            "  2.02759898e-09 -5.81483306e-10 -4.21167234e-09  1.35319089e-09\n",
            "  2.81842993e-09 -2.33189690e-09]\n",
            "\n",
            "le nbre d iteration  du BB2  pour N= 20 est : 98\n",
            "la dérivée du munimum est [-4.51705340e-12  1.54853907e-12  1.93622895e-11 -1.18705046e-12\n",
            " -4.26410018e-11  7.50555174e-12  3.51469964e-11  3.89421828e-12\n",
            " -2.80042656e-11  1.22004629e-11 -4.05320222e-12 -1.17732490e-11\n",
            " -3.79585252e-11 -1.43782764e-11 -7.10187466e-11 -2.27685427e-10\n",
            " -6.22423006e-10 -1.45945125e-09 -3.62696423e-09 -9.11955755e-09]\n",
            "\n",
            "le nbre d iteration  du BB2  pour N= 40 est : 77\n",
            "la dérivée du minimum est [ 1.19970700e-10 -1.23261845e-10  9.05067132e-11 -2.35969466e-10\n",
            "  4.48092230e-10 -4.24725144e-10  3.73080233e-10 -4.85876228e-10\n",
            "  7.34733607e-10 -8.44295744e-10  7.18833881e-10 -7.28082927e-10\n",
            "  9.30107102e-10 -1.22896449e-09  1.02874020e-09 -9.15942433e-10\n",
            "  1.08187592e-09 -1.41308165e-09  1.24616051e-09 -1.05208064e-09\n",
            "  1.11710641e-09 -1.29702782e-09  1.22916699e-09 -1.13511023e-09\n",
            "  9.99774041e-10 -1.03669962e-09  9.55333590e-10 -9.50872270e-10\n",
            "  7.86573917e-10 -7.46368745e-10  8.00104427e-10 -5.22526911e-10\n",
            "  3.21611182e-10 -6.48736176e-10  5.74519099e-10 -1.48974610e-10\n",
            "  8.14597278e-11 -1.51764379e-10  2.67226241e-10 -3.20937499e-10]\n",
            "\n",
            "le nbre d iteration  du BB2  pour N= 80 est : 87\n",
            "la dérivée du minimum est [ 1.90958360e-13 -1.24789068e-13 -5.88418203e-13  1.17550414e-12\n",
            "  2.44249065e-14 -2.52020627e-12  2.44870790e-12  1.86206606e-12\n",
            " -4.40403269e-12 -9.07274256e-13  5.77404791e-12  1.80833126e-12\n",
            " -7.48023865e-12 -9.67403935e-12  1.80975235e-11  1.78510540e-11\n",
            " -3.28097549e-11 -2.20263807e-11  3.79491993e-11  1.75086612e-11\n",
            " -1.14570575e-11 -1.58340008e-11 -3.68118869e-11  1.89839255e-11\n",
            "  7.97615307e-11 -2.43329801e-11 -8.96229757e-11  8.14370793e-12\n",
            "  7.94386779e-11  2.46327403e-11 -5.43560752e-11 -5.12270226e-11\n",
            "  2.95430347e-11  4.74531525e-11  1.21680443e-12 -5.56652502e-11\n",
            " -4.93205476e-11  6.30389074e-11  9.38427114e-11 -3.70636855e-11\n",
            " -3.83906240e-11  2.90549806e-11 -3.25295346e-12 -3.44702045e-12\n",
            " -6.70974387e-12 -1.01265663e-10 -1.09502185e-10 -7.81130716e-11\n",
            " -1.10418341e-11  1.34800615e-10  1.60573777e-10  1.29672273e-10\n",
            "  3.06913606e-10  4.22043733e-10  2.69231748e-10 -4.26565450e-11\n",
            " -4.12057499e-10 -6.66044997e-10 -7.61947838e-10 -9.95567184e-10\n",
            " -1.21158994e-09 -9.06028585e-10 -1.52422075e-10  5.07078379e-10\n",
            "  1.01374020e-09  1.63426961e-09  2.30657360e-09  2.69691913e-09\n",
            "  2.61803379e-09  2.07524664e-09  1.37247369e-09  7.35215444e-10\n",
            " -1.71063164e-11 -8.77987905e-10 -1.41577772e-09 -1.51059698e-09\n",
            " -1.36433531e-09 -1.04497522e-09 -6.34660769e-10 -4.77287543e-10]\n"
          ]
        }
      ],
      "source": [
        "N1=10\n",
        "N2=20\n",
        "N3=40\n",
        "N4=80\n",
        "u1=np.zeros(N1)\n",
        "u2=np.zeros(N2)\n",
        "u3=np.zeros(N3)\n",
        "u4=np.zeros(N4)\n",
        "\n",
        "eta=0.5\n",
        "epsg=1.e-08\n",
        "maxiter=1500\n",
        "\n",
        "#Validation de l'algorithme BB1 :\n",
        "uBB1,nbreiter1,cost_BB1,grad1=BB1(JR,u1,eta,epsg,maxiter)\n",
        "uBB2,nbreiter2,cost_BB2,grad2=BB1(JR,u2,eta,epsg,maxiter)\n",
        "uBB3,nbreiter3,cost_BB3,grad3=BB1(JR,u3,eta,epsg,maxiter)\n",
        "uBB4,nbreiter4,cost_BB4,grad4=BB1(JR,u4,eta,epsg,maxiter)\n",
        "print(\"le nbre d iteration  du BB1  pour N= {} est : {}\".format(N1,nbreiter1))\n",
        "print(\"la dérivée du minimum est {}\".format(grad1))\n",
        "print(\"\")\n",
        "print(\"le nbre d iteration  du BB1  pour N= {} est : {}\".format(N2,nbreiter2))\n",
        "print(\"la dérivé du minimum est {}\".format(grad2))\n",
        "print(\"\")\n",
        "print(\"le nbre d iteration  du BB1  pour N= {} est : {}\".format(N3,nbreiter3))\n",
        "print(\"la dérivée du minimum est {}\".format(grad3))\n",
        "print(\"\")\n",
        "print(\"le nbre d iteration  du BB1  pour N= {} est : {}\".format(N4,nbreiter4))\n",
        "print(\"la dérivée du minimum  est {}\".format(grad4))\n",
        "print(\"\");print(\"\")\n",
        "\n",
        "#validation de l'algorithme BB2:\n",
        "uBB11,nbreiter11,cost_BB11,grad11=BB2(JR,u1,eta,epsg,maxiter)\n",
        "uBB22,nbreiter22,cost_BB22,grad22=BB2(JR,u2,eta,epsg,maxiter)\n",
        "uBB33,nbreiter33,cost_BB33,grad33=BB2(JR,u3,eta,epsg,maxiter)\n",
        "uBB44,nbreiter44,cost_BB44,grad44=BB2(JR,u4,eta,epsg,maxiter)\n",
        "print(\"le nbre d iteration  du BB2  pour N= {} est : {}\".format(N1,nbreiter11))\n",
        "print(\"la dérivée du minimum est {}\".format(grad11))\n",
        "print(\"\")\n",
        "print(\"le nbre d iteration  du BB2  pour N= {} est : {}\".format(N2,nbreiter22))\n",
        "print(\"la dérivée du munimum est {}\".format(grad22))\n",
        "print(\"\")\n",
        "print(\"le nbre d iteration  du BB2  pour N= {} est : {}\".format(N3,nbreiter33))\n",
        "print(\"la dérivée du minimum est {}\".format(grad33))\n",
        "print(\"\")\n",
        "print(\"le nbre d iteration  du BB2  pour N= {} est : {}\".format(N4,nbreiter44))\n",
        "print(\"la dérivée du minimum est {}\".format(grad44))"
      ]
    },
    {
      "cell_type": "code",
      "execution_count": 58,
      "metadata": {
        "colab": {
          "base_uri": "https://localhost:8080/",
          "height": 295
        },
        "id": "u10TKHJyDOeD",
        "outputId": "491d2080-34c2-4fbc-fb60-c94a7a7f2f65"
      },
      "outputs": [
        {
          "data": {
            "image/png": "[encoded data removed]",
            "text/plain": [
              "<Figure size 432x288 with 1 Axes>"
            ]
          },
          "metadata": {
            "needs_background": "light"
          },
          "output_type": "display_data"
        }
      ],
      "source": [
        "plt.plot(range(0,nbreiter1+1), cost_BB1[0:nbreiter1+1], 'b*', label=\"BB1\")\n",
        "plt.plot(range(0,nbreiter11+1), cost_BB11[0:nbreiter11+1], 'r', label=\"BB2\")\n",
        "plt.xlabel('iterations')\n",
        "plt.ylabel('JR(Uk)')\n",
        "plt.title('Pour N=10')\n",
        "plt.legend()\n",
        "plt.show()"
      ]
    },
    {
      "cell_type": "markdown",
      "metadata": {
        "id": "E2_2WguxV02R"
      },
      "source": [
        "## Etape 4.\n",
        "\n",
        "Comparer sur les fonctions $J_{H}$ du TP1 et $J_{R}$ les performances relatives des méthodes BB1 (ou BB2) et des algorithmes NLCG (au choix Fletcher-Reeves, Polak-Ribiere ou Dai-Yuan) développés en TP2."
      ]
    },
    {
      "cell_type": "markdown",
      "metadata": {
        "id": "UStphtvCO4Z5"
      },
      "source": [
        "$$J_H (x, y) = (x^2 +y−2)^2 +(y^2 −2x+1)^2$$"
      ]
    },
    {
      "cell_type": "code",
      "execution_count": 59,
      "metadata": {
        "id": "230zxP95WMp-"
      },
      "outputs": [],
      "source": [
        "def JH(x):\n",
        "   var1 = x[0]**2 + x[1] - 2\n",
        "   var2 = x[1]**2 - 2*x[0] + 1\n",
        "   J = (var1)**2 + (var2)**2 \n",
        "   G = np.array([4*x[0]*var1 - 4*var2, 2*var1 - 4*x[1]*var2])\n",
        "   return J, G"
      ]
    },
    {
      "cell_type": "code",
      "execution_count": 60,
      "metadata": {
        "id": "7TMVl2XFPkli"
      },
      "outputs": [],
      "source": [
        "def NLGC(fun, u, alpha, eta, MaxIters):\n",
        "    # fun      : fonction objectif\n",
        "    # u        : point initial\n",
        "    # alpha    : pas fixe\n",
        "    # eta      : tolérance\n",
        "    # MaxIters : nombre maximal d'iterations\n",
        "\n",
        "    cost_history = np.zeros(MaxIters) \n",
        "     \n",
        "    [J, G] = fun(u) \n",
        "    cost_history[0] = J \n",
        "    d = -G \n",
        "\n",
        "    for k in np.arange(1,MaxIters):\n",
        "             \n",
        "        u = u + alpha * d\n",
        "        Gtemp = G\n",
        "        [J, G] = fun(u)\n",
        "        cost_history[k] = J \n",
        "\n",
        "        betaFR = np.dot(G,G)/np.dot(Gtemp,Gtemp)        # Variante Fletcher-Reeves\n",
        "        #betaPR = np.dot(G,G-Gtemp)/np.dot(Gtemp,Gtemp) # variante Polak-Ribiere\n",
        "        #betaPR = max(0, betaPR)\n",
        "        #betaDY = np.dot(G,G)/np.dot(G-Gtemp,d)         # variante Dai-Yuan\n",
        "\n",
        "        d = -G + betaFR * d \n",
        "\n",
        "        if np.linalg.norm(G) < eta:\n",
        "           break\n",
        "\n",
        "    return u, k, cost_history"
      ]
    },
    {
      "cell_type": "markdown",
      "metadata": {
        "id": "1vg-ZlWSzWUY"
      },
      "source": [
        "*Test de validation BB1,NLGC sur la fonction JR*"
      ]
    },
    {
      "cell_type": "code",
      "execution_count": 62,
      "metadata": {
        "colab": {
          "base_uri": "https://localhost:8080/",
          "height": 330
        },
        "id": "UPXFJke3POe8",
        "outputId": "a720dafb-f244-422d-b007-596cd98e465c"
      },
      "outputs": [
        {
          "name": "stdout",
          "output_type": "stream",
          "text": [
            "nbre d itération pour BB1 : 81\n",
            "nombre d iteration pour NLGC : 86\n"
          ]
        },
        {
          "data": {
            "image/png": "[encoded data removed]",
            "text/plain": [
              "<Figure size 432x288 with 1 Axes>"
            ]
          },
          "metadata": {
            "needs_background": "light"
          },
          "output_type": "display_data"
        }
      ],
      "source": [
        "N=20\n",
        "u=np.zeros(N)\n",
        "eta=0.1\n",
        "epsg=1.e-08\n",
        "maxiter=1500\n",
        "uBB1,nbreiter1,cost_BB1,grad1=BB1(JR,u,eta,epsg,maxiter)\n",
        "uNLGC,nbreiterNLGC,cost_NLGC=NLGC(JR,u,eta,epsg,maxiter)\n",
        "print(\"nbre d itération pour BB1 : {}\".format(nbreiter1))\n",
        "print(\"nombre d iteration pour NLGC : {}\".format(nbreiterNLGC))\n",
        "plt.plot(range(0,nbreiter1+1), cost_BB1[0:nbreiter1+1], 'b', label=\"BB1\")\n",
        "plt.plot(range(0,nbreiterNLGC+1), cost_NLGC[0:nbreiterNLGC+1], 'r', label=\"NLGC\")\n",
        "plt.xlabel('iterations')\n",
        "plt.ylabel('JR(Uk)')\n",
        "plt.title('Pour N=20')\n",
        "plt.legend()\n",
        "plt.show()"
      ]
    },
    {
      "cell_type": "code",
      "execution_count": 63,
      "metadata": {
        "colab": {
          "base_uri": "https://localhost:8080/",
          "height": 438
        },
        "id": "1DbYwK2prD9j",
        "outputId": "79ede97d-a6e8-44fa-fb27-1acf441d2649"
      },
      "outputs": [
        {
          "name": "stdout",
          "output_type": "stream",
          "text": [
            "1499\n"
          ]
        },
        {
          "name": "stderr",
          "output_type": "stream",
          "text": [
            "/usr/local/lib/python3.7/dist-packages/ipykernel_launcher.py:2: RuntimeWarning: overflow encountered in double_scalars\n",
            "  \n",
            "/usr/local/lib/python3.7/dist-packages/ipykernel_launcher.py:3: RuntimeWarning: overflow encountered in double_scalars\n",
            "  This is separate from the ipykernel package so we can avoid doing imports until\n",
            "/usr/local/lib/python3.7/dist-packages/ipykernel_launcher.py:5: RuntimeWarning: invalid value encountered in double_scalars\n",
            "  \"\"\"\n"
          ]
        },
        {
          "data": {
            "text/plain": [
              "<matplotlib.legend.Legend at 0x7f4c6daf2250>"
            ]
          },
          "execution_count": 63,
          "metadata": {},
          "output_type": "execute_result"
        },
        {
          "data": {
            "image/png": "[encoded data removed]",
            "text/plain": [
              "<Figure size 432x288 with 1 Axes>"
            ]
          },
          "metadata": {
            "needs_background": "light"
          },
          "output_type": "display_data"
        }
      ],
      "source": [
        "u=np.array([0,0])\n",
        "eta=0.1\n",
        "epsg=1.e-08\n",
        "maxiter=1500\n",
        "uNLGC,nbreiterNLGC,cost_NLGC=NLGC(JH,u,eta,epsg,maxiter)\n",
        "print(nbreiterNLGC)\n",
        "plt.plot(range(0,nbreiterNLGC+1), cost_NLGC[0:nbreiterNLGC+1], 'r-', label=\"NLGC\")\n",
        "plt.xlabel('iterations')\n",
        "plt.ylabel('JH(Uk)')\n",
        "plt.title('Pour N=10 et pas=0.1')\n",
        "plt.legend()"
      ]
    },
    {
      "cell_type": "markdown",
      "metadata": {
        "id": "e2EG6NF-6OJq"
      },
      "source": [
        ">On remarque que NLGC ne converge pas vers le minimum de JH(v), car la fonction admet deux minimums, ce qui rend très compliqué à l'algorithme de converger vers un à cause du pas constant."
      ]
    }
  ],
  "metadata": {
    "colab": {
      "collapsed_sections": [],
      "name": "Mini_Projet_Optimisation_IHIKKI_HAMZA.ipynb",
      "provenance": []
    },
    "kernelspec": {
      "display_name": "Python 3",
      "language": "python",
      "name": "python3"
    },
    "language_info": {
      "codemirror_mode": {
        "name": "ipython",
        "version": 3
      },
      "file_extension": ".py",
      "mimetype": "text/x-python",
      "name": "python",
      "nbconvert_exporter": "python",
      "pygments_lexer": "ipython3",
      "version": "3.7.4"
    },
    "toc": {
      "base_numbering": 1,
      "nav_menu": {},
      "number_sections": true,
      "sideBar": true,
      "skip_h1_title": false,
      "title_cell": "Table of Contents",
      "title_sidebar": "Contents",
      "toc_cell": false,
      "toc_position": {},
      "toc_section_display": true,
      "toc_window_display": false
    },
    "varInspector": {
      "cols": {
        "lenName": 16,
        "lenType": 16,
        "lenVar": 40
      },
      "kernels_config": {
        "python": {
          "delete_cmd_postfix": "",
          "delete_cmd_prefix": "del ",
          "library": "var_list.py",
          "varRefreshCmd": "print(var_dic_list())"
        },
        "r": {
          "delete_cmd_postfix": ") ",
          "delete_cmd_prefix": "rm(",
          "library": "var_list.r",
          "varRefreshCmd": "cat(var_dic_list()) "
        }
      },
      "types_to_exclude": [
        "module",
        "function",
        "builtin_function_or_method",
        "instance",
        "_Feature"
      ],
      "window_display": false
    }
  },
  "nbformat": 4,
  "nbformat_minor": 0
}
